{
  "nbformat": 4,
  "nbformat_minor": 0,
  "metadata": {
    "colab": {
      "name": "ANOVA_test.ipynb",
      "private_outputs": true,
      "provenance": [],
      "authorship_tag": "ABX9TyMzyWzVHPCi2Sfczi1DEH32",
      "include_colab_link": true
    },
    "kernelspec": {
      "name": "python3",
      "display_name": "Python 3"
    },
    "language_info": {
      "name": "python"
    }
  },
  "cells": [
    {
      "cell_type": "markdown",
      "metadata": {
        "id": "view-in-github",
        "colab_type": "text"
      },
      "source": [
        "<a href=\"https://colab.research.google.com/github/msultana22/Vaccine-Hesitancy-for-COVID-19-Public-Use-Microdata-Areas-PUMAs-/blob/main/ANOVA_test.ipynb\" target=\"_parent\"><img src=\"https://colab.research.google.com/assets/colab-badge.svg\" alt=\"Open In Colab\"/></a>"
      ]
    },
    {
      "cell_type": "markdown",
      "metadata": {
        "id": "jYU-ApC59O13"
      },
      "source": [
        "#Importing of packages"
      ]
    },
    {
      "cell_type": "code",
      "metadata": {
        "id": "DiTNEsuwrtRe"
      },
      "source": [
        "import pandas as pd\n",
        "import numpy as np\n",
        "import matplotlib.pyplot as plt\n",
        "import plotly.express as px\n",
        "import seaborn as sns\n",
        "from sklearn import metrics"
      ],
      "execution_count": null,
      "outputs": []
    },
    {
      "cell_type": "markdown",
      "metadata": {
        "id": "u50jNpvxHk_W"
      },
      "source": [
        "Vaccine Hesitancy for COVID-19: Public Use Microdata Areas (PUMAs)"
      ]
    },
    {
      "cell_type": "code",
      "metadata": {
        "id": "SLYXkFBj_PfS"
      },
      "source": [
        "df = pd.read_csv('https://data.cdc.gov/resource/djj9-kh3p.csv')\n",
        "df"
      ],
      "execution_count": null,
      "outputs": []
    },
    {
      "cell_type": "markdown",
      "metadata": {
        "id": "UU6koezZBddV"
      },
      "source": [
        "#Variables for dataframe that can be used for ANOVA testing\n",
        "1. estimated_hesitant \n",
        "2. percent_hispanic \n",
        "3. percent_non_hispanic_american \n",
        "4. percent_non_hispanic_asian \n",
        "5. percent_non_hispanic_black \n",
        "6. percent_non_hispanic_white"
      ]
    },
    {
      "cell_type": "markdown",
      "metadata": {
        "id": "FtIrP2VxKVkx"
      },
      "source": [
        "3 Countinous variables to be tested with correlation for State\n",
        "\n",
        "1. percent_hispanic \n",
        "2. percent_non_hispanic_asian  \n",
        "3. percent_non_hispanic_white"
      ]
    },
    {
      "cell_type": "code",
      "metadata": {
        "id": "jaW5Rw5O8vjA"
      },
      "source": [
        "sns.boxplot(x = 'estimated_hesitant', y = 'percent_hispanic', data = df)"
      ],
      "execution_count": null,
      "outputs": []
    },
    {
      "cell_type": "code",
      "metadata": {
        "id": "c5qAFrsbru6q"
      },
      "source": [
        "sns.boxplot(x = 'estimated_hesitant', y = 'percent_non_hispanic_asian', data = df)"
      ],
      "execution_count": null,
      "outputs": []
    },
    {
      "cell_type": "code",
      "metadata": {
        "id": "WiCQ4JDhr34g"
      },
      "source": [
        "sns.boxplot(x = 'estimated_hesitant', y = 'percent_non_hispanic_white', data = df)"
      ],
      "execution_count": null,
      "outputs": []
    },
    {
      "cell_type": "markdown",
      "metadata": {
        "id": "8KE1Hy7EGfcp"
      },
      "source": [
        "#Assumption Testing"
      ]
    },
    {
      "cell_type": "code",
      "metadata": {
        "id": "RLUub3rOsZvb"
      },
      "source": [
        "estimated_hesitant1 = df[df['estimated_hesitant'] == 'percent_hispanic']\n",
        "estimated_hesitant2 = df[df['estimated_hesitant'] == 'percent_non_hispanic_asian']\n",
        "estimated_hesitant3 = df[df['estimated_hesitant'] == 'percent_non_hispanic_white']"
      ],
      "execution_count": null,
      "outputs": []
    },
    {
      "cell_type": "code",
      "metadata": {
        "id": "DjNF9PWAs2PJ"
      },
      "source": [
        "plt.hist(estimated_hesitant1['percent_hispanic'])\n",
        "plt.show()"
      ],
      "execution_count": null,
      "outputs": []
    },
    {
      "cell_type": "code",
      "metadata": {
        "id": "yy1KvozWs8dF"
      },
      "source": [
        "plt.hist(estimated_hesitant2['percent_hispanic'])\n",
        "plt.show()"
      ],
      "execution_count": null,
      "outputs": []
    },
    {
      "cell_type": "code",
      "metadata": {
        "id": "35HHuNM7tDSg"
      },
      "source": [
        "plt.hist(estimated_hesitant3['percent_hispanic'])\n",
        "plt.show()"
      ],
      "execution_count": null,
      "outputs": []
    },
    {
      "cell_type": "markdown",
      "metadata": {
        "id": "6GXw6s5qSmWs"
      },
      "source": [
        "#ANOVA Testing"
      ]
    },
    {
      "cell_type": "code",
      "metadata": {
        "id": "6Gm8i-bTGqna"
      },
      "source": [
        "from sklearn.linear_model import LogisticRegression\n",
        "from sklearn.metrics import confusion_matrix\n",
        "import statsmodels.formula.api as smf\n",
        "import scipy.stats as stats"
      ],
      "execution_count": null,
      "outputs": []
    },
    {
      "cell_type": "code",
      "metadata": {
        "id": "I1BQPIbbGyDN"
      },
      "source": [
        "import statsmodels.api as sm"
      ],
      "execution_count": null,
      "outputs": []
    },
    {
      "cell_type": "code",
      "metadata": {
        "id": "rhBSJ9RFG48B"
      },
      "source": [
        "model = smf.ols(\"percent_hispanic ~ C(estimated_hesitant)\", data = df).fit()\n",
        "anova_table = sm.stats.anova_lm(model, typ=2)\n",
        "anova_table"
      ],
      "execution_count": null,
      "outputs": []
    },
    {
      "cell_type": "markdown",
      "metadata": {
        "id": "d4jwXNO1MQr6"
      },
      "source": [
        "The difference between the percent hispanic and estimated hesitant is significant due to the P value being less thn 0.05 allowing us to reject the null hypothesis."
      ]
    },
    {
      "cell_type": "code",
      "metadata": {
        "id": "TQ94PqUSKlmw"
      },
      "source": [
        "model = smf.ols(\"percent_non_hispanic_asian ~ C(estimated_hesitant)\", data = df).fit()\n",
        "anova_table = sm.stats.anova_lm(model, typ=2)\n",
        "anova_table"
      ],
      "execution_count": null,
      "outputs": []
    },
    {
      "cell_type": "markdown",
      "metadata": {
        "id": "3DMFZgc9L0pB"
      },
      "source": [
        "The difference between the percent non hispanic asian and estimated hesitant is significant due to the P value being less thn 0.05 allowing us to reject the null hypothesis"
      ]
    },
    {
      "cell_type": "code",
      "metadata": {
        "id": "hsIwrvM2MhSy"
      },
      "source": [
        "model = smf.ols(\"percent_non_hispanic_white ~ C(estimated_hesitant)\", data = df).fit()\n",
        "anova_table = sm.stats.anova_lm(model, typ=2)\n",
        "anova_table"
      ],
      "execution_count": null,
      "outputs": []
    },
    {
      "cell_type": "markdown",
      "metadata": {
        "id": "vIzfQ5rxM8m2"
      },
      "source": [
        "The difference between the percent non hispanic white and estimated hesitant is significant due to the P value being less thn 0.05 allowing us to reject the null hypothesis."
      ]
    },
    {
      "cell_type": "markdown",
      "metadata": {
        "id": "zM764bsxT7YI"
      },
      "source": [
        "#POST_HOC_RES"
      ]
    },
    {
      "cell_type": "code",
      "metadata": {
        "id": "Hy5FVw1nU09N"
      },
      "source": [
        "import statsmodels.stats.multicomp as mc"
      ],
      "execution_count": null,
      "outputs": []
    },
    {
      "cell_type": "code",
      "metadata": {
        "id": "hJLELN77U8j3"
      },
      "source": [
        "comp = mc.MultiComparison(df['estimated_hesitant'], df['percent_hispanic'])\n",
        "post_hoc_res = comp.tukeyhsd()\n",
        "tukey1way = pd.DataFrame(post_hoc_res.summary())"
      ],
      "execution_count": null,
      "outputs": []
    },
    {
      "cell_type": "code",
      "metadata": {
        "id": "CTD4NXJqVgCa"
      },
      "source": [
        "print(comp)"
      ],
      "execution_count": null,
      "outputs": []
    },
    {
      "cell_type": "code",
      "metadata": {
        "id": "B_pJIZSAVmdw"
      },
      "source": [
        "print(tukey1way)"
      ],
      "execution_count": null,
      "outputs": []
    },
    {
      "cell_type": "markdown",
      "metadata": {
        "id": "fKK_RvW2VyvW"
      },
      "source": [
        "Based on the Tukey one way test their was no significant difference between group 1 and group 2 estimated_hesitant and percent_hispanic."
      ]
    },
    {
      "cell_type": "code",
      "metadata": {
        "id": "txuBeC9oWBTH"
      },
      "source": [
        "comp = mc.MultiComparison(df['estimated_hesitant'], df['percent_non_hispanic_asian'])\n",
        "post_hoc_res = comp.tukeyhsd()\n",
        "tukey1way = pd.DataFrame(post_hoc_res.summary())"
      ],
      "execution_count": null,
      "outputs": []
    },
    {
      "cell_type": "code",
      "metadata": {
        "id": "xk-oLjpCWlmg"
      },
      "source": [
        "print(comp)"
      ],
      "execution_count": null,
      "outputs": []
    },
    {
      "cell_type": "code",
      "metadata": {
        "id": "5l0ZfyORWpPj"
      },
      "source": [
        "print(tukey1way)"
      ],
      "execution_count": null,
      "outputs": []
    },
    {
      "cell_type": "markdown",
      "metadata": {
        "id": "ydoSHxuRW5QT"
      },
      "source": [
        "Based on the Tukey one way test their was no significant difference between group 1 and group 2 estimated_hesitant and percent_non_hispanic_asian."
      ]
    },
    {
      "cell_type": "code",
      "metadata": {
        "id": "Xl6stqV0XbON"
      },
      "source": [
        "comp = mc.MultiComparison(df['estimated_hesitant'], df['percent_non_hispanic_white'])\n",
        "post_hoc_res = comp.tukeyhsd()\n",
        "tukey1way = pd.DataFrame(post_hoc_res.summary())"
      ],
      "execution_count": null,
      "outputs": []
    },
    {
      "cell_type": "code",
      "metadata": {
        "id": "NG5D_wMCX12i"
      },
      "source": [
        "print(comp)"
      ],
      "execution_count": null,
      "outputs": []
    },
    {
      "cell_type": "code",
      "metadata": {
        "id": "bsL84l_FX5k5"
      },
      "source": [
        "print(tukey1way)"
      ],
      "execution_count": null,
      "outputs": []
    },
    {
      "cell_type": "markdown",
      "metadata": {
        "id": "QHmZ4pp7YKN6"
      },
      "source": [
        "Based on the Tukey one way their was no significant differences between group 1 and group 2 estimated hesitant and percent_non_hispanic_white"
      ]
    },
    {
      "cell_type": "code",
      "metadata": {
        "id": "IZmk_EJSYf5W"
      },
      "source": [
        "df.describe()"
      ],
      "execution_count": null,
      "outputs": []
    },
    {
      "cell_type": "markdown",
      "metadata": {
        "id": "B9yvwkZSY-ji"
      },
      "source": [
        "#KURTOSIS"
      ]
    },
    {
      "cell_type": "markdown",
      "metadata": {
        "id": "t58gLIcDsVCu"
      },
      "source": [
        "Kurtosis testing is used to measure if the data are heavy-tailed or\n",
        "\n",
        "light-tailed relative to a normal distribution.That is, data sets with high\n",
        "\n",
        "kurtosis tend to have heavy tails, or outliers. Data sets with low kurtosis\n",
        "\n",
        "tend to have light tails, or lack of outliers.\n"
      ]
    },
    {
      "cell_type": "code",
      "metadata": {
        "id": "k6V2LemWtK7W"
      },
      "source": [
        "from scipy.stats import kurtosis, skew, bartlett"
      ],
      "execution_count": null,
      "outputs": []
    },
    {
      "cell_type": "code",
      "metadata": {
        "id": "pDprlr3UtPDi"
      },
      "source": [
        "# kertosis \n",
        "print(kurtosis(estimated_hesitant1['percent_hispanic']))\n",
        "print(kurtosis(estimated_hesitant2['percent_hispanic']))\n",
        "print(kurtosis(estimated_hesitant3['percent_hispanic']))"
      ],
      "execution_count": null,
      "outputs": []
    },
    {
      "cell_type": "code",
      "metadata": {
        "id": "xYro4FKltYLG"
      },
      "source": [
        "print('skew estimated_hesitant1: ', skew(estimated_hesitant1['percent_hispanic']))\n",
        "print('skew estimated_hesitant2: ', skew(estimated_hesitant2['percent_hispanic']))\n",
        "print(skew(estimated_hesitant3['percent_hispanic']))"
      ],
      "execution_count": null,
      "outputs": []
    },
    {
      "cell_type": "markdown",
      "metadata": {
        "id": "EiuqesHCtrpt"
      },
      "source": [
        "#Logistic Regression"
      ]
    },
    {
      "cell_type": "markdown",
      "metadata": {
        "id": "nETwt4x5az9x"
      },
      "source": [
        "Showed DF with mean and So columns with estimated hesitant"
      ]
    },
    {
      "cell_type": "markdown",
      "metadata": {
        "id": "k2EcGt8RuEkv"
      },
      "source": [
        "Showed DF with mean and Se columns with location."
      ]
    },
    {
      "cell_type": "code",
      "metadata": {
        "id": "3y458dALuKUa"
      },
      "source": [
        "df = df[['estimated_hesitant','percent_hispanic', 'percent_non_hispanic_asian','percent_non_hispanic_white', 'percent_non_hispanic_black', 'percent_non_hispanic_american','percent_non_hispanic_native']]"
      ],
      "execution_count": null,
      "outputs": []
    },
    {
      "cell_type": "code",
      "metadata": {
        "id": "gf_SYqvbuTEW"
      },
      "source": [
        "df.head()"
      ],
      "execution_count": null,
      "outputs": []
    },
    {
      "cell_type": "code",
      "metadata": {
        "id": "y8u8Nf3KueYM"
      },
      "source": [
        "df.info()"
      ],
      "execution_count": null,
      "outputs": []
    },
    {
      "cell_type": "markdown",
      "metadata": {
        "id": "uR24eLLuul_f"
      },
      "source": [
        "# correlation"
      ]
    },
    {
      "cell_type": "markdown",
      "metadata": {
        "id": "BFDui_5PdURb"
      },
      "source": [
        ""
      ]
    },
    {
      "cell_type": "code",
      "metadata": {
        "id": "iYBG4a4Tup5P"
      },
      "source": [
        "sns.boxplot(x = 'estimated_hesitant', y = 'percent_hispanic', data = df)"
      ],
      "execution_count": null,
      "outputs": []
    },
    {
      "cell_type": "code",
      "metadata": {
        "id": "kefhu1IXvAun"
      },
      "source": [
        "boundary = 15\n",
        "sns.scatterplot(x = 'percent_hispanic', y = 'estimated_hesitant', data = df)\n",
        "plt.plot([boundary, boundary], [0, 1], 'g', linewidth = 5)"
      ],
      "execution_count": null,
      "outputs": []
    },
    {
      "cell_type": "markdown",
      "metadata": {
        "id": "8XdGKK5CvJrL"
      },
      "source": [
        "down below I created a function that takes in a target boundary (value of estimated_hesitant).\n",
        "\n",
        "The number I chose as the boundary was 10 due to the fact that most estimated_hesitant\n",
        "\n",
        "for estimated_hesitant would greater or equal to 10 as the test/predictor model."
      ]
    },
    {
      "cell_type": "code",
      "metadata": {
        "id": "QjqBVm1cvNJY"
      },
      "source": [
        "def boundary_classifier(target_boundary,x):\n",
        "  result = []\n",
        "  for i in x:\n",
        "    if i > target_boundary:\n",
        "      result.append(1)\n",
        "    else:\n",
        "      result.append(0)\n",
        "  return result"
      ],
      "execution_count": null,
      "outputs": []
    },
    {
      "cell_type": "code",
      "metadata": {
        "id": "zR_2nuevvXju"
      },
      "source": [
        "chosen_boundary = 10\n",
        "y_pred = boundary_classifier(chosen_boundary, df['percent_hispanic'])\n",
        "df['predicted'] = y_pred\n",
        "y_true = df['estimated_hesitant']\n",
        "sns.scatterplot(x = 'percent_hispanic', y = 'estimated_hesitant', hue = 'predicted', data = df)\n",
        "plt.plot([chosen_boundary, chosen_boundary], [0, 1], 'g', linewidth = 6)"
      ],
      "execution_count": null,
      "outputs": []
    },
    {
      "cell_type": "code",
      "metadata": {
        "id": "irahOD0SwTAY"
      },
      "source": [
        "from sklearn.model_selection import train_test_split\n",
        "train_df, test_df = train_test_split(df, test_size = 0.4, random_state = 1)"
      ],
      "execution_count": null,
      "outputs": []
    },
    {
      "cell_type": "code",
      "metadata": {
        "id": "n3pzzwlxwV5e"
      },
      "source": [
        "train_df.head()"
      ],
      "execution_count": null,
      "outputs": []
    },
    {
      "cell_type": "code",
      "metadata": {
        "id": "CPpMYp4Vwfw2"
      },
      "source": [
        "test_df.head()"
      ],
      "execution_count": null,
      "outputs": []
    },
    {
      "cell_type": "code",
      "metadata": {
        "id": "ycI5tR-Swleb"
      },
      "source": [
        "input_labels = ['percent_hispanic']\n",
        "output_label = 'estimated_hesitant'\n",
        "\n",
        "\n",
        "x_train = train_df[input_labels]\n",
        "print('Our x variables')\n",
        "print(x_train.head())\n",
        "print('\\n\\n')\n",
        "\n",
        "y_train = train_df[output_label]\n",
        "print('Our y variable:')\n",
        "print(y_train.head())"
      ],
      "execution_count": null,
      "outputs": []
    },
    {
      "cell_type": "markdown",
      "metadata": {
        "id": "DkMWLlxix8Un"
      },
      "source": [
        "#Shapiro Test"
      ]
    },
    {
      "cell_type": "code",
      "metadata": {
        "id": "YrgmhDldx0EP"
      },
      "source": [
        "from sklearn.linear_model import LogisticRegression\n",
        "from sklearn.metrics import confusion_matrix\n",
        "import statsmodels.formula.api as smf\n",
        "import scipy.stats as stats"
      ],
      "execution_count": null,
      "outputs": []
    },
    {
      "cell_type": "code",
      "metadata": {
        "id": "dnyLaXf1yGPv"
      },
      "source": [
        "model = smf.ols(\"percent_non_hispanic_white ~ C(estimated_hesitant)\", data = df).fit()\n",
        "stats.shapiro(model.resid)"
      ],
      "execution_count": null,
      "outputs": []
    },
    {
      "cell_type": "code",
      "metadata": {
        "id": "sciJnOqMyIk3"
      },
      "source": [
        "import matplotlib.pyplot as plt\n",
        "\n",
        "fig = plt.figure(figsize= (10, 10))\n",
        "ax = fig.add_subplot(111)\n",
        "\n",
        "normality_plot, stat = stats.probplot(model.resid, plot= plt, rvalue= True)\n",
        "ax.set_title(\"Probability plot of model residual's\", fontsize= 20)\n",
        "ax.set\n",
        "\n",
        "plt.show()"
      ],
      "execution_count": null,
      "outputs": []
    },
    {
      "cell_type": "markdown",
      "metadata": {
        "id": "-8Vv4-B4aDP4"
      },
      "source": [
        "The Shapiro-Wilks test for normality is a normality test\n",
        "The test rejects the hypothesis of normality when the # p-value is less than\n",
        "or equal to 0.05.\n",
        "As shown above the P value is greater than 0.05 meaning that the data is considered normal and we fail to reject the null hypthesis"
      ]
    }
  ]
}